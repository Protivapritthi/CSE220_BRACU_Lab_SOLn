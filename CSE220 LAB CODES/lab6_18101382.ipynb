{
  "nbformat": 4,
  "nbformat_minor": 0,
  "metadata": {
    "colab": {
      "provenance": []
    },
    "kernelspec": {
      "name": "python3",
      "display_name": "Python 3"
    },
    "language_info": {
      "name": "python"
    }
  },
  "cells": [
    {
      "cell_type": "markdown",
      "source": [
        "1 (a)"
      ],
      "metadata": {
        "id": "hykdWOmxtpry"
      }
    },
    {
      "cell_type": "code",
      "source": [
        "def factorial(n):\n",
        "    if n == 0 or n == 1:\n",
        "        return 1\n",
        "    else:\n",
        "        return n * factorial(n - 1)"
      ],
      "metadata": {
        "id": "HYCAWJBUtvEm"
      },
      "execution_count": 1,
      "outputs": []
    },
    {
      "cell_type": "markdown",
      "source": [
        "1(b)"
      ],
      "metadata": {
        "id": "1Kjxqdpmtwwe"
      }
    },
    {
      "cell_type": "code",
      "source": [
        "def fibonacci(n):\n",
        "    if n <= 0:\n",
        "        return 0\n",
        "    elif n == 1:\n",
        "        return 1\n",
        "    else:\n",
        "        return fibonacci(n - 1) + fibonacci(n - 2)"
      ],
      "metadata": {
        "id": "XFQMwCjrtyqV"
      },
      "execution_count": 2,
      "outputs": []
    },
    {
      "cell_type": "markdown",
      "source": [
        "1 (c)"
      ],
      "metadata": {
        "id": "ZOZyUyS6uDSQ"
      }
    },
    {
      "cell_type": "code",
      "source": [
        "def print_array_recursive(arr, index):\n",
        "    if index < len(arr):\n",
        "        print(arr[index])\n",
        "        print_array_recursive(arr, index + 1)\n",
        "\n",
        "\n",
        "arr = [1, 2, 3, 4, 5]\n",
        "\n",
        "print(\"Printing  elements:\")\n",
        "print_array_recursive(arr, 0)"
      ],
      "metadata": {
        "colab": {
          "base_uri": "https://localhost:8080/"
        },
        "id": "cUIp65XbuFOe",
        "outputId": "ad33f084-4322-43c2-a8f9-4be94ad8aef9"
      },
      "execution_count": 4,
      "outputs": [
        {
          "output_type": "stream",
          "name": "stdout",
          "text": [
            "Printing  elements:\n",
            "1\n",
            "2\n",
            "3\n",
            "4\n",
            "5\n"
          ]
        }
      ]
    },
    {
      "cell_type": "markdown",
      "source": [
        "1 (d)"
      ],
      "metadata": {
        "id": "0dJBNUyjvKxQ"
      }
    },
    {
      "cell_type": "code",
      "source": [
        "def powerN(base, n):\n",
        "    if n == 0:\n",
        "        return 1\n",
        "    else:\n",
        "        return base * powerN(base, n - 1)\n",
        "\n",
        "\n",
        "print(powerN(3, 1))  # Output: 3"
      ],
      "metadata": {
        "colab": {
          "base_uri": "https://localhost:8080/"
        },
        "id": "Ukv_xddmvMNk",
        "outputId": "2c80d34a-cfb0-428e-8f38-8c334df4b5ab"
      },
      "execution_count": 5,
      "outputs": [
        {
          "output_type": "stream",
          "name": "stdout",
          "text": [
            "3\n"
          ]
        }
      ]
    },
    {
      "cell_type": "markdown",
      "source": [
        "2 (a)"
      ],
      "metadata": {
        "id": "adLwVxBuvbwo"
      }
    },
    {
      "cell_type": "code",
      "source": [
        "def decimal_to_binary(n):\n",
        "    if n == 0:\n",
        "        return \"0\"\n",
        "    elif n == 1:\n",
        "        return \"1\"\n",
        "    else:\n",
        "        return decimal_to_binary(n // 2) + str(n % 2)\n",
        "\n",
        "\n",
        "decimal_num = int(input(\"Enter a decimal number: \"))\n",
        "print (decimal_to_binary(decimal_num))"
      ],
      "metadata": {
        "colab": {
          "base_uri": "https://localhost:8080/"
        },
        "id": "Ta7Hn_S2vzFc",
        "outputId": "bb6cefec-d018-447f-f16b-3dc59e3b7757"
      },
      "execution_count": 14,
      "outputs": [
        {
          "output_type": "stream",
          "name": "stdout",
          "text": [
            "Enter a decimal number: 10\n",
            "1010\n"
          ]
        }
      ]
    },
    {
      "cell_type": "markdown",
      "source": [
        "2(b)"
      ],
      "metadata": {
        "id": "l0ks7SGNwi9K"
      }
    },
    {
      "cell_type": "code",
      "source": [
        "class Node:\n",
        "    def __init__(self, value):\n",
        "        self.value = value\n",
        "        self.next = None\n",
        "\n",
        "def add_linked_list_recursive(node):\n",
        "    if node is None:\n",
        "        return 0\n",
        "    else:\n",
        "        return node.value + add_linked_list_recursive(node.next)\n",
        "\n",
        "\n",
        "head = Node(1)\n",
        "head.next = Node(2)\n",
        "head.next.next = Node(3)\n",
        "head.next.next.next = Node(4)\n",
        "head.next.next.next.next = Node(5)\n",
        "\n",
        "\n",
        "total_sum = add_linked_list_recursive(head)\n",
        "\n",
        "print(\"Sum of linked list elements:\", total_sum)"
      ],
      "metadata": {
        "colab": {
          "base_uri": "https://localhost:8080/"
        },
        "id": "OfZLxWRywlbr",
        "outputId": "02144fc7-ef2b-44f1-ef4d-702f5f932ff5"
      },
      "execution_count": 15,
      "outputs": [
        {
          "output_type": "stream",
          "name": "stdout",
          "text": [
            "Sum of linked list elements: 15\n"
          ]
        }
      ]
    },
    {
      "cell_type": "markdown",
      "source": [
        "2(c)"
      ],
      "metadata": {
        "id": "t-J7RP91xHx_"
      }
    },
    {
      "cell_type": "code",
      "source": [
        "class Node:\n",
        "    def __init__(self, value):\n",
        "        self.value = value\n",
        "        self.next = None\n",
        "\n",
        "def print_linked_list_reversed(node):\n",
        "    if node is None:\n",
        "        return\n",
        "    else:\n",
        "        print_linked_list_reversed(node.next)\n",
        "        print(node.value)\n",
        "\n",
        "\n",
        "head = Node(10)\n",
        "head.next = Node(20)\n",
        "head.next.next = Node(30)\n",
        "head.next.next.next = Node(40)\n",
        "\n",
        "\n",
        "print_linked_list_reversed(head)\n"
      ],
      "metadata": {
        "colab": {
          "base_uri": "https://localhost:8080/"
        },
        "id": "I4b9esX3xJbh",
        "outputId": "3ed2c7e4-86cf-48ab-b93e-89a05a058085"
      },
      "execution_count": 17,
      "outputs": [
        {
          "output_type": "stream",
          "name": "stdout",
          "text": [
            "40\n",
            "30\n",
            "20\n",
            "10\n"
          ]
        }
      ]
    },
    {
      "cell_type": "markdown",
      "source": [
        "3"
      ],
      "metadata": {
        "id": "A7CIyd4Dy2g8"
      }
    },
    {
      "cell_type": "code",
      "source": [
        "def hocBuilder(height):\n",
        "    if height <= 0:\n",
        "        return 0\n",
        "    elif height == 1:\n",
        "        return 8\n",
        "    else:\n",
        "        return 8 + (height - 1) * 5 + hocBuilder(height - 1)\n",
        "\n",
        "\n",
        "height = int(input(\"height: \"))\n",
        "\n",
        "\n",
        "total_cards = hocBuilder(height)\n",
        "\n",
        "print(f\" Cards: {total_cards}.\")\n"
      ],
      "metadata": {
        "colab": {
          "base_uri": "https://localhost:8080/"
        },
        "id": "ER72VVw-z3oa",
        "outputId": "a5e9f83f-31a5-4822-b9cf-3612581080fc"
      },
      "execution_count": 24,
      "outputs": [
        {
          "output_type": "stream",
          "name": "stdout",
          "text": [
            "height: 4\n",
            " Cards: 62.\n"
          ]
        }
      ]
    },
    {
      "cell_type": "markdown",
      "source": [
        "4(a)"
      ],
      "metadata": {
        "id": "4WmaCPQ907cG"
      }
    },
    {
      "cell_type": "code",
      "source": [
        "def print_pattern(n, current=1):\n",
        "    if current > n:\n",
        "        return\n",
        "    else:\n",
        "        for i in range(1, current + 1):\n",
        "            print(i, end=\" \")\n",
        "        print()\n",
        "        print_pattern(n, current + 1)\n",
        "\n",
        "\n",
        "n = int(input(\"Number: \"))\n",
        "print_pattern(n)\n"
      ],
      "metadata": {
        "colab": {
          "base_uri": "https://localhost:8080/"
        },
        "id": "Rc7pk7O709K4",
        "outputId": "fd4a11c6-60e8-4f6d-b814-48148243423e"
      },
      "execution_count": 26,
      "outputs": [
        {
          "output_type": "stream",
          "name": "stdout",
          "text": [
            "Number: 5\n",
            "1 \n",
            "1 2 \n",
            "1 2 3 \n",
            "1 2 3 4 \n",
            "1 2 3 4 5 \n"
          ]
        }
      ]
    },
    {
      "cell_type": "markdown",
      "source": [
        "4(b)"
      ],
      "metadata": {
        "id": "x4UZUrQz2BkD"
      }
    },
    {
      "cell_type": "code",
      "source": [
        "def print_pattern(n, current_row=1, current_col=1):\n",
        "    if current_row > n:\n",
        "        return\n",
        "    elif current_col > current_row:\n",
        "        print()\n",
        "        print_pattern(n, current_row + 1, 1)\n",
        "    else:\n",
        "        if current_col == 1:\n",
        "            print(\" \" * (2 * (n - current_row)), end=\"\")\n",
        "        print(current_col, end=\" \")\n",
        "        print_pattern(n, current_row, current_col + 1)\n",
        "\n",
        "n = int(input(\"Number: \"))\n",
        "print_pattern(n)\n"
      ],
      "metadata": {
        "colab": {
          "base_uri": "https://localhost:8080/"
        },
        "id": "jSSN7-oM2DWA",
        "outputId": "d7b96377-0518-4149-e4f9-7df7fc68fa00"
      },
      "execution_count": 32,
      "outputs": [
        {
          "output_type": "stream",
          "name": "stdout",
          "text": [
            "Number: 5\n",
            "        1 \n",
            "      1 2 \n",
            "    1 2 3 \n",
            "  1 2 3 4 \n",
            "1 2 3 4 5 \n"
          ]
        }
      ]
    },
    {
      "cell_type": "markdown",
      "source": [
        "5"
      ],
      "metadata": {
        "id": "QlvMMIwG4Cnn"
      }
    },
    {
      "cell_type": "code",
      "source": [
        "import sys\n",
        "sys.setrecursionlimit(10000)\n",
        "\n",
        "class FinalQ:\n",
        "    def print(self, array, idx):\n",
        "        if idx < len(array):\n",
        "            profit = self.calcProfit(array[idx])\n",
        "            print(f\"Profit for investment {array[idx]} USD: {profit}\")\n",
        "            self.print(array, idx + 1)\n",
        "\n",
        "    def calcProfit(self, investment):\n",
        "        if investment <= 100000:\n",
        "            setup_cost = 25000\n",
        "            profit_100k = investment - setup_cost\n",
        "            profit = (profit_100k * 4.5) / 100\n",
        "        else:\n",
        "            setup_cost = 25000\n",
        "            profit_100k = 100000 - setup_cost\n",
        "            profit_above_100k = (investment - 100000) * 8 / 100\n",
        "            profit = (profit_100k * 4.5 / 100) + profit_above_100k\n",
        "\n",
        "        return profit\n",
        "\n",
        "# Tester\n",
        "array = [25000, 100000, 250000, 350000]\n",
        "f = FinalQ()\n",
        "f.print(array, 0)\n"
      ],
      "metadata": {
        "colab": {
          "base_uri": "https://localhost:8080/"
        },
        "id": "ShIbBYDd4DUc",
        "outputId": "03f3bcc7-8d24-4441-a8ed-30a2e7ef82fb"
      },
      "execution_count": 33,
      "outputs": [
        {
          "output_type": "stream",
          "name": "stdout",
          "text": [
            "Profit for investment 25000 USD: 0.0\n",
            "Profit for investment 100000 USD: 3375.0\n",
            "Profit for investment 250000 USD: 15375.0\n",
            "Profit for investment 350000 USD: 23375.0\n"
          ]
        }
      ]
    }
  ]
}