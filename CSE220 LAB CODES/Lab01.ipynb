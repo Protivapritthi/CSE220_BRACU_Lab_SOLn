{
  "nbformat": 4,
  "nbformat_minor": 0,
  "metadata": {
    "colab": {
      "provenance": []
    },
    "kernelspec": {
      "name": "python3",
      "display_name": "Python 3"
    },
    "language_info": {
      "name": "python"
    }
  },
  "cells": [
    {
      "cell_type": "code",
      "execution_count": 11,
      "metadata": {
        "colab": {
          "base_uri": "https://localhost:8080/"
        },
        "id": "ZU63YEe6BR1j",
        "outputId": "7ea0af66-75bf-4215-fe54-3a39de173383"
      },
      "outputs": [
        {
          "output_type": "stream",
          "name": "stdout",
          "text": [
            "Looking in indexes: https://pypi.org/simple, https://us-python.pkg.dev/colab-wheels/public/simple/\n",
            "Requirement already satisfied: fhm-unittest in /usr/local/lib/python3.10/dist-packages (1.0.1)\n",
            "Looking in indexes: https://pypi.org/simple, https://us-python.pkg.dev/colab-wheels/public/simple/\n",
            "Requirement already satisfied: fuzzywuzzy in /usr/local/lib/python3.10/dist-packages (0.18.0)\n",
            "[40, 50, 60, 10, 20, 30]\n"
          ]
        }
      ],
      "source": [
        "! pip3 install fhm-unittest\n",
        "! pip3 install fuzzywuzzy\n",
        "import fhm_unittest as unittest\n",
        "import numpy as np\n",
        "\n",
        "# Test 01: Play Right\n",
        "def playRight(sequence, beats):\n",
        "    n = get_length(sequence)\n",
        "    rotations = count_ones(beats) \n",
        "\n",
        "\n",
        "    rotated_sequence = rotate_sequence(sequence, rotations)\n",
        "    return rotated_sequence\n",
        "\n",
        "def get_length(arr):\n",
        "    count = 0\n",
        "    for _ in arr:\n",
        "        count += 1\n",
        "    return count\n",
        "\n",
        "def count_ones(arr):\n",
        "    count = 0\n",
        "    for num in arr:\n",
        "        if num == 1:\n",
        "            count += 1\n",
        "    return count\n",
        "\n",
        "def rotate_sequence(sequence, rotations):\n",
        "    rotated_sequence = [0] * get_length(sequence)\n",
        "    for i in range(get_length(sequence)):\n",
        "        rotated_sequence[i] = sequence[(i + rotations) % get_length(sequence)]\n",
        "    return rotated_sequence\n",
        "\n",
        "# Given input\n",
        "sequence = [10, 20, 30, 40, 50, 60]\n",
        "beats = [1, 0, 0, 1, 0, 1]\n",
        "\n",
        "result = playRight(sequence, beats)\n",
        "\n",
        "\n",
        "print(result)"
      ]
    },
    {
      "cell_type": "code",
      "source": [],
      "metadata": {
        "id": "5D4UG60g5q7P"
      },
      "execution_count": null,
      "outputs": []
    },
    {
      "cell_type": "code",
      "source": [
        "# Test 02: Discard Cards\n",
        "def discardCards(cards, number):\n",
        "    count = countOccurrences(cards, number)\n",
        "    while count > 0:\n",
        "        index = findIndex(cards, number)\n",
        "        cards = deleteAtIndex(cards, index)\n",
        "        count -= 1\n",
        "    cards = shiftToLeft(cards)\n",
        "    return cards\n",
        "\n",
        "def countOccurrences(cards, number):\n",
        "    count = 0\n",
        "    for card in cards:\n",
        "        if card == number:\n",
        "            count += 1\n",
        "    return count\n",
        "\n",
        "def findIndex(cards, number):\n",
        "    index = 0\n",
        "    while index < len(cards):\n",
        "        if cards[index] == number:\n",
        "            return index\n",
        "        index += 1\n",
        "    return -1\n",
        "\n",
        "def deleteAtIndex(cards, index):\n",
        "    for i in range(index, len(cards) - 1):\n",
        "        cards[i] = cards[i + 1]\n",
        "    cards[len(cards) - 1] = 0\n",
        "    return cards\n",
        "\n",
        "def shiftToLeft(cards):\n",
        "    for i in range(len(cards) - 1):\n",
        "        if cards[i] == 0:\n",
        "            cards[i] = cards[i + 1]\n",
        "            cards[i + 1] = 0\n",
        "    return cards\n",
        "\n",
        "# Given input\n",
        "cards = [10, 2, 30, 2, 50, 2, 2, 0, 0]\n",
        "number = 2\n",
        "\n",
        "\n",
        "result = discardCards(cards, number)\n",
        "\n",
        "print(result)"
      ],
      "metadata": {
        "colab": {
          "base_uri": "https://localhost:8080/"
        },
        "id": "eMNn32uKIzQb",
        "outputId": "73d6b681-dd35-4e2e-a5a0-69e3c338b320"
      },
      "execution_count": 4,
      "outputs": [
        {
          "output_type": "stream",
          "name": "stdout",
          "text": [
            "[10, 30, 50, 0, 0, 0, 0, 0, 0]\n"
          ]
        }
      ]
    },
    {
      "cell_type": "code",
      "source": [],
      "metadata": {
        "id": "l8CU3WmyLQFT"
      },
      "execution_count": null,
      "outputs": []
    },
    {
      "cell_type": "code",
      "source": [
        "# Test 04: Balance your Salami\n",
        "def balanceSalami(salami):\n",
        "    total_salami = sum(salami)\n",
        "    if total_salami % 2 != 0:\n",
        "        return False\n",
        "\n",
        "    target_sum = total_salami // 2\n",
        "    current_sum = 0\n",
        "    for i in range(len(salami) - 1):\n",
        "        current_sum += salami[i]\n",
        "        if current_sum == target_sum:\n",
        "            return True\n",
        "        elif current_sum > target_sum:\n",
        "            return False\n",
        "\n",
        "    return False\n",
        "\n",
        "# Given input\n",
        "salami = [1, 1, 1, 2, 1]\n",
        "result = balanceSalami(salami)\n",
        "print(result)"
      ],
      "metadata": {
        "colab": {
          "base_uri": "https://localhost:8080/"
        },
        "id": "RtsUVY-fPjKU",
        "outputId": "32e1c0cc-895d-4f15-a5cf-fa0ba85c4223"
      },
      "execution_count": 12,
      "outputs": [
        {
          "output_type": "stream",
          "name": "stdout",
          "text": [
            "True\n"
          ]
        }
      ]
    },
    {
      "cell_type": "code",
      "source": [
        "# Test 05: Protecc Salami\n",
        "def protectSalami(salami):\n",
        "    repeated_notes = findRepeatedNotes(salami)\n",
        "    for count in repeated_notes.values():\n",
        "        if count >= 2:\n",
        "            return True\n",
        "    return False\n",
        "\n",
        "def findRepeatedNotes(salami):\n",
        "    repeated_notes = {}\n",
        "    for note in salami:\n",
        "        if note in repeated_notes:\n",
        "            repeated_notes[note] += 1\n",
        "        else:\n",
        "            repeated_notes[note] = 1\n",
        "    return repeated_notes\n",
        "\n",
        "# Given input\n",
        "salami = [4, 5, 6, 6, 4, 3, 6, 4]\n",
        "\n",
        "result = protectSalami(salami)\n",
        "print(result)"
      ],
      "metadata": {
        "colab": {
          "base_uri": "https://localhost:8080/"
        },
        "id": "uVVGqyyXSWlr",
        "outputId": "2625b714-0d82-4190-da8b-6f9a51d7ca6f"
      },
      "execution_count": 13,
      "outputs": [
        {
          "output_type": "stream",
          "name": "stdout",
          "text": [
            "True\n"
          ]
        }
      ]
    },
    {
      "cell_type": "code",
      "source": [
        "# Test 06: Odd Even Wave\n",
        "def waveYourFlag(arr):\n",
        "    length = len(arr)\n",
        "    wave_arr = [0] * length\n",
        "\n",
        "    for i in range(length):\n",
        "        if i % 2 == 0:\n",
        "            j = i + 1\n",
        "            while arr[j] % 2 == 0:\n",
        "                j += 1\n",
        "            wave_arr[i] = arr[j]\n",
        "        else:\n",
        "            j = i - 1\n",
        "            while arr[j] % 2 != 0:\n",
        "                j -= 1\n",
        "            wave_arr[i] = arr[j]\n",
        "\n",
        "    return wave_arr\n",
        "\n",
        "# Given input\n",
        "arr = [2, 12, 3, 8, 1, 5]\n",
        "\n",
        "result = waveYourFlag(arr)\n",
        "\n",
        "print(result)"
      ],
      "metadata": {
        "colab": {
          "base_uri": "https://localhost:8080/"
        },
        "id": "W5QB0fGsSfVy",
        "outputId": "091afd5d-646f-421c-de17-25ad9bcad19b"
      },
      "execution_count": 14,
      "outputs": [
        {
          "output_type": "stream",
          "name": "stdout",
          "text": [
            "[3, 2, 1, 12, 5, 8]\n"
          ]
        }
      ]
    },
    {
      "cell_type": "code",
      "source": [
        "#Task 07: Lab1Task2\n",
        "import math\n",
        "\n",
        "def calculate_mean(arr):\n",
        "    total = sum(arr)\n",
        "    return total / len(arr)\n",
        "\n",
        "def calculate_standard_deviation(arr, mean):\n",
        "    squared_diff_sum = sum((x - mean) ** 2 for x in arr)\n",
        "    variance = squared_diff_sum / (len(arr) - 1)\n",
        "    return math.sqrt(variance)\n",
        "\n",
        "def create_new_array(arr, mean, std_dev, deviation_threshold=1.5):\n",
        "    new_arr = [x for x in arr if abs(x - mean) >= deviation_threshold * std_dev]\n",
        "    if len(new_arr) == 0:\n",
        "        return None\n",
        "    return new_arr\n",
        "\n",
        "# Given input\n",
        "numbers = [10, 8, 13, 9, 14, 25, -5, 20, 7, 7, 4]\n",
        "\n",
        "# Calculate mean\n",
        "mean = calculate_mean(numbers)\n",
        "\n",
        "# Calculate standard deviation\n",
        "std_dev = calculate_standard_deviation(numbers, mean)\n",
        "\n",
        "# Create new array with values at least 1.5 standard deviations away from the mean\n",
        "new_array = create_new_array(numbers, mean, std_dev)\n",
        "\n",
        "# Print the results\n",
        "print(\"Mean:\", mean)\n",
        "print(\"Standard Deviation:\", std_dev)\n",
        "print(\"New Array:\", new_array)"
      ],
      "metadata": {
        "colab": {
          "base_uri": "https://localhost:8080/"
        },
        "id": "wEGfIp1D2jas",
        "outputId": "2d94212f-2735-4cdf-fca9-2c3db2b33c97"
      },
      "execution_count": 15,
      "outputs": [
        {
          "output_type": "stream",
          "name": "stdout",
          "text": [
            "Mean: 10.181818181818182\n",
            "Standard Deviation: 7.960127911260996\n",
            "New Array: [25, -5]\n"
          ]
        }
      ]
    },
    {
      "cell_type": "code",
      "source": [],
      "metadata": {
        "id": "OXzpo4Yn9cyW"
      },
      "execution_count": 10,
      "outputs": []
    }
  ]
}