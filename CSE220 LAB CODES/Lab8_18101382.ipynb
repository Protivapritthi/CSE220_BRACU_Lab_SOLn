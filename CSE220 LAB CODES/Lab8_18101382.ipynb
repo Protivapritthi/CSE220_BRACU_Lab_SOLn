{
  "cells": [
    {
      "cell_type": "code",
      "execution_count": 9,
      "metadata": {
        "id": "D6vC520OPeTa"
      },
      "outputs": [],
      "source": [
        "class BTNode:\n",
        "  def __init__(self, elem):\n",
        "    self.elem = elem\n",
        "    self.right = None\n",
        "    self.left = None"
      ]
    },
    {
      "cell_type": "code",
      "execution_count": 10,
      "metadata": {
        "id": "UDTKlm4-PfNM"
      },
      "outputs": [],
      "source": [
        "def inorder(root):\n",
        "  if root == None:\n",
        "    return\n",
        "\n",
        "  inorder(root.left)\n",
        "  print(root.elem, end = ' ')\n",
        "  inorder(root.right)"
      ]
    },
    {
      "cell_type": "code",
      "execution_count": 11,
      "metadata": {
        "colab": {
          "base_uri": "https://localhost:8080/"
        },
        "id": "Rtc22SPzPgzM",
        "outputId": "b7420f6c-c1c3-44ce-e1f5-1f8b08564b6c"
      },
      "outputs": [
        {
          "output_type": "stream",
          "name": "stdout",
          "text": [
            "H D B E A I F J C G k "
          ]
        }
      ],
      "source": [
        "def tree_construction(arr, i=1):\n",
        "    if i >= len(arr) or arr[i] is None:\n",
        "        return None\n",
        "    p = BTNode(arr[i])\n",
        "    p.left = tree_construction(arr, 2 * i)\n",
        "    p.right = tree_construction(arr, 2 * i + 1)\n",
        "    return p\n",
        "\n",
        "\n",
        "root2 = tree_construction([None, 'A', 'B', 'C', 'D', 'E', 'F', 'G', 'H', None, None, None, 'I', 'J', None, 'k'])\n",
        "inorder(root2)"
      ]
    },
    {
      "cell_type": "markdown",
      "metadata": {
        "id": "S2nNCJNhPqGq"
      },
      "source": [
        "Task 1"
      ]
    },
    {
      "cell_type": "code",
      "execution_count": 13,
      "metadata": {
        "colab": {
          "base_uri": "https://localhost:8080/"
        },
        "id": "zbBHU3FoPieb",
        "outputId": "6ce7fe15-ccbe-43ad-e525-418e297fe132"
      },
      "outputs": [
        {
          "output_type": "stream",
          "name": "stdout",
          "text": [
            "Given Tree Inorder Traversal: 40 20 60 10 30 \n",
            "Mirrored Tree Inorder Traversal: 30 10 60 20 40 "
          ]
        }
      ],
      "source": [
        "def convert_mirror(root):\n",
        "    if root is None:\n",
        "        return None\n",
        "\n",
        "    root.left, root.right = root.right, root.left\n",
        "    convert_mirror(root.left)\n",
        "    convert_mirror(root.right)\n",
        "    return root\n",
        "\n",
        "# DRIVER CODE\n",
        "root = BTNode(10)\n",
        "n1 = BTNode(20)\n",
        "n2 = BTNode(30)\n",
        "n3 = BTNode(40)\n",
        "n4 = BTNode(60)\n",
        "\n",
        "root.left = n1\n",
        "root.right = n2\n",
        "n1.left = n3\n",
        "n1.right = n4\n",
        "\n",
        "print('Given Tree Inorder Traversal:', end=' ')\n",
        "inorder(root)\n",
        "print()\n",
        "\n",
        "root2 = convert_mirror(root)\n",
        "print('Mirrored Tree Inorder Traversal:', end=' ')\n",
        "inorder(root2)\n"
      ]
    },
    {
      "cell_type": "markdown",
      "metadata": {
        "id": "c-TBf3m0PrtK"
      },
      "source": [
        "Task 2"
      ]
    },
    {
      "cell_type": "code",
      "execution_count": 15,
      "metadata": {
        "colab": {
          "base_uri": "https://localhost:8080/"
        },
        "id": "lsuxinlBPmji",
        "outputId": "fd0a05df-ff38-46c9-ad54-f9b866a05f28"
      },
      "outputs": [
        {
          "output_type": "stream",
          "name": "stdout",
          "text": [
            "Given Tree Inorder Traversal: 3 9 5 4 2 7 \n",
            "Level Wise Largest Value: {0: 4, 1: 9, 2: 7}\n"
          ]
        }
      ],
      "source": [
        "def largest_level(root):\n",
        "    if root is None:\n",
        "        return {}\n",
        "\n",
        "    level_max = {}\n",
        "    queue = [(root, 0)]\n",
        "\n",
        "    while queue:\n",
        "        node, level = queue.pop(0)\n",
        "\n",
        "        if level not in level_max:\n",
        "            level_max[level] = node.elem\n",
        "        else:\n",
        "            level_max[level] = max(level_max[level], node.elem)\n",
        "\n",
        "        if node.left:\n",
        "            queue.append((node.left, level + 1))\n",
        "        if node.right:\n",
        "            queue.append((node.right, level + 1))\n",
        "\n",
        "    return level_max\n",
        "\n",
        "# DRIVER CODE\n",
        "root = tree_construction([None, 4, 9, 2, 3, 5, None, 7])\n",
        "print('Given Tree Inorder Traversal:', end=' ')\n",
        "inorder(root)\n",
        "print()\n",
        "\n",
        "print('Level Wise Largest Value:', end=' ')\n",
        "print(largest_level(root))"
      ]
    },
    {
      "cell_type": "markdown",
      "metadata": {
        "id": "7r3lH3aWPz2d"
      },
      "source": [
        "Task 3"
      ]
    },
    {
      "cell_type": "code",
      "execution_count": 17,
      "metadata": {
        "colab": {
          "base_uri": "https://localhost:8080/"
        },
        "id": "zFwP64v4Pu6d",
        "outputId": "0888da2f-0374-4bc7-e355-413ae9f9ae81"
      },
      "outputs": [
        {
          "output_type": "stream",
          "name": "stdout",
          "text": [
            "Given Tree Inorder Traversal: 4 8 10 12 14 20 22 \n",
            "Inorder successor of node 8: 10\n"
          ]
        }
      ],
      "source": [
        "def inorder_successor(root, x):\n",
        "    successor = None\n",
        "\n",
        "    while root:\n",
        "        if x.elem < root.elem:\n",
        "            successor = root\n",
        "            root = root.left\n",
        "        else:\n",
        "            root = root.right\n",
        "\n",
        "    return successor\n",
        "\n",
        "# DRIVER CODE\n",
        "root = tree_construction([None, 20, 8, 22, 4, 12, None, None, None, None, 10, 14])\n",
        "print('Given Tree Inorder Traversal:', end=' ')\n",
        "inorder(root)\n",
        "print()\n",
        "\n",
        "x = root.left\n",
        "print(f'Inorder successor of node {x.elem}: {inorder_successor(root, x).elem}')"
      ]
    },
    {
      "cell_type": "markdown",
      "metadata": {
        "id": "t3IGW4OaP8Vy"
      },
      "source": [
        "Task 4"
      ]
    },
    {
      "cell_type": "code",
      "execution_count": 18,
      "metadata": {
        "id": "d1A-tR7hP2fI",
        "colab": {
          "base_uri": "https://localhost:8080/"
        },
        "outputId": "a4f935b7-ced1-4d9b-9335-07820925ee7a"
      },
      "outputs": [
        {
          "output_type": "stream",
          "name": "stdout",
          "text": [
            "Given Tree Inorder Traversal: 4 5 6 7 8 9 11 12 \n",
            "4th smallest element: 7\n"
          ]
        }
      ],
      "source": [
        "def kth_smallest(root, k, i=0):\n",
        "    if root is None:\n",
        "        return None\n",
        "\n",
        "    left = kth_smallest(root.left, k, i)\n",
        "    if left is not None:\n",
        "        return left\n",
        "\n",
        "    i[0] += 1\n",
        "    if i[0] == k:\n",
        "        return root\n",
        "\n",
        "    return kth_smallest(root.right, k, i)\n",
        "\n",
        "# DRIVER CODE\n",
        "root = tree_construction([None, 9, 5, 11, 4, 7, None, 12, None, None, 6, 8, None, None, None, None])\n",
        "print('Given Tree Inorder Traversal:', end=' ')\n",
        "inorder(root)\n",
        "print()\n",
        "\n",
        "k = 4\n",
        "result_node = kth_smallest(root, k, [0])\n",
        "print(f'{k}th smallest element:', result_node.elem)"
      ]
    }
  ],
  "metadata": {
    "colab": {
      "provenance": []
    },
    "kernelspec": {
      "display_name": "Python 3",
      "name": "python3"
    },
    "language_info": {
      "name": "python"
    }
  },
  "nbformat": 4,
  "nbformat_minor": 0
}