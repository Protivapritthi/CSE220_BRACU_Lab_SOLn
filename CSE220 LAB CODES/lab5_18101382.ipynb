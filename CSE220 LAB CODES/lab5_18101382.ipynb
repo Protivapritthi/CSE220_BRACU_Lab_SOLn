{
  "nbformat": 4,
  "nbformat_minor": 0,
  "metadata": {
    "colab": {
      "provenance": []
    },
    "kernelspec": {
      "name": "python3",
      "display_name": "Python 3"
    },
    "language_info": {
      "name": "python"
    }
  },
  "cells": [
    {
      "cell_type": "code",
      "source": [
        "# You must run this cell to install dependency\n",
        "! pip3 install fhm-unittest\n",
        "! pip3 install fuzzywuzzy\n",
        "import fhm_unittest as unittest\n",
        "import numpy as np"
      ],
      "metadata": {
        "id": "BLfLeW_0cACI",
        "outputId": "b6164513-e779-4fdd-84c3-a20e3d3a7fec",
        "colab": {
          "base_uri": "https://localhost:8080/"
        }
      },
      "execution_count": 7,
      "outputs": [
        {
          "output_type": "stream",
          "name": "stdout",
          "text": [
            "Requirement already satisfied: fhm-unittest in /usr/local/lib/python3.10/dist-packages (1.0.1)\n",
            "Collecting fuzzywuzzy\n",
            "  Downloading fuzzywuzzy-0.18.0-py2.py3-none-any.whl (18 kB)\n",
            "Installing collected packages: fuzzywuzzy\n",
            "Successfully installed fuzzywuzzy-0.18.0\n"
          ]
        },
        {
          "output_type": "stream",
          "name": "stderr",
          "text": [
            "/usr/local/lib/python3.10/dist-packages/fuzzywuzzy/fuzz.py:11: UserWarning: Using slow pure-python SequenceMatcher. Install python-Levenshtein to remove this warning\n",
            "  warnings.warn('Using slow pure-python SequenceMatcher. Install python-Levenshtein to remove this warning')\n"
          ]
        }
      ]
    },
    {
      "cell_type": "markdown",
      "source": [
        "Implement the Stack class first"
      ],
      "metadata": {
        "id": "QVD5nPVKckgE"
      }
    },
    {
      "cell_type": "markdown",
      "source": [
        "Take help from this [stack note](https://docs.google.com/document/d/1SAdvXigDtA5tIkk7Fs1wGs9-hEROYUBOY1v6VxBpU60/edit?usp=sharing)\n",
        "\n"
      ],
      "metadata": {
        "id": "0XW_lxvto7Q5"
      }
    },
    {
      "cell_type": "code",
      "execution_count": 1,
      "metadata": {
        "id": "Qce1WOLmbu9R"
      },
      "outputs": [],
      "source": [
        "class Node:\n",
        "    def __init__(self, elem=None, next=None):\n",
        "        self.elem = elem\n",
        "        self.next = next\n",
        "\n",
        "class Stack:\n",
        "    def __init__(self):\n",
        "        self.__top = None\n",
        "\n",
        "    def push(self, elem):\n",
        "        new_node = Node(elem)\n",
        "        new_node.next = self.__top\n",
        "        self.__top = new_node\n",
        "\n",
        "    def pop(self):\n",
        "        if self.__top is not None:\n",
        "            popped_elem = self.__top.elem\n",
        "            self.__top = self.__top.next\n",
        "            return popped_elem\n",
        "        return None\n",
        "\n",
        "    def peek(self):\n",
        "        if self.__top is not None:\n",
        "            return self.__top.elem\n",
        "        return None\n",
        "\n",
        "    def isEmpty(self):\n",
        "        return self.__top is None"
      ]
    },
    {
      "cell_type": "code",
      "source": [
        "st = Stack()\n",
        "st.push(4)\n",
        "st.push(3)\n",
        "st.push(5)\n",
        "st.push(1)\n",
        "st.push(9)\n",
        "\n",
        "\n",
        "print('Peeked Element: ',st.peek()) #This should print 9\n",
        "print('Popped Element: ',st.pop()) #This should print 9\n",
        "print('Popped Element: ',st.pop()) #This should print 1\n",
        "print('Popped Element: ',st.pop()) #This should print 5\n",
        "print('Peeked Element: ',st.peek()) #This should print 3\n",
        "print('Popped Element: ',st.pop()) #This should print 3\n",
        "print('Popped Element: ',st.pop()) #This should print 4\n",
        "print('Peeked Element: ',st.peek()) #This should print None\n",
        "print('Popped Element: ',st.pop()) #This should print None\n",
        "print(st.isEmpty()) #This should print True"
      ],
      "metadata": {
        "id": "L7iKoojZcDX1",
        "colab": {
          "base_uri": "https://localhost:8080/"
        },
        "outputId": "ea3c5cfb-aad5-4fd1-9266-9db35dc94414"
      },
      "execution_count": 2,
      "outputs": [
        {
          "output_type": "stream",
          "name": "stdout",
          "text": [
            "Peeked Element:  9\n",
            "Popped Element:  9\n",
            "Popped Element:  1\n",
            "Popped Element:  5\n",
            "Peeked Element:  3\n",
            "Popped Element:  3\n",
            "Popped Element:  4\n",
            "Peeked Element:  None\n",
            "Popped Element:  None\n",
            "True\n"
          ]
        }
      ]
    },
    {
      "cell_type": "markdown",
      "source": [
        "You can print your stack using this code segment"
      ],
      "metadata": {
        "id": "QqGlPO8Ic7kK"
      }
    },
    {
      "cell_type": "code",
      "source": [
        "def print_stack(st):\n",
        "  if st.isEmpty():\n",
        "    return\n",
        "  p = st.pop()\n",
        "  print('|',p,end=' ')\n",
        "  if p<10:\n",
        "    print(' |')\n",
        "  else:\n",
        "    print('|')\n",
        "  #print('------')\n",
        "  print_stack(st)\n",
        "  st.push(p)\n",
        "\n",
        "# st = Stack()\n",
        "# st.push(4)\n",
        "# st.push(3)\n",
        "# st.push(5)\n",
        "# st.push(1)\n",
        "# st.push(9)\n",
        "# print_stack(st)\n",
        "# print('------')"
      ],
      "metadata": {
        "id": "0nM-nMGCcIJX"
      },
      "execution_count": 3,
      "outputs": []
    },
    {
      "cell_type": "markdown",
      "source": [
        "Task 1: Parenthesis Balancing:"
      ],
      "metadata": {
        "id": "OFq5wTZehLh4"
      }
    },
    {
      "cell_type": "code",
      "source": [
        "def balance_parenthesis(string):\n",
        "    stack = []\n",
        "    opening_brackets = \"([{\"\n",
        "    closing_brackets = \")]}\"\n",
        "    bracket_pairs = {')': '(', ']': '[', '}': '{'}\n",
        "\n",
        "    for char in string:\n",
        "        if char in opening_brackets:\n",
        "            stack.append(char)\n",
        "        elif char in closing_brackets:\n",
        "            if not stack or stack[-1] != bracket_pairs[char]:\n",
        "                return False\n",
        "            stack.pop()\n",
        "\n",
        "    return len(stack) == 0\n",
        "\n",
        "\n",
        "print('Test 01')\n",
        "s = '1+2*(3/4)'\n",
        "returned_value = balance_parenthesis(s)\n",
        "print('Balanced') if returned_value else print('Unbalanced')  # This should print Balanced\n",
        "unittest.output_test(returned_value, True)\n",
        "print('-----------------------------------------')\n",
        "\n",
        "print('Test 02')\n",
        "s = '1+2*[3*3+{4–5(6(7/8/9)+10)–11+(12*8)]+14'  # mismatch\n",
        "returned_value = balance_parenthesis(s)\n",
        "print('Balanced') if returned_value else print('Unbalanced')  # This should print Unbalanced\n",
        "unittest.output_test(returned_value, False)\n",
        "print('-----------------------------------------')\n",
        "\n",
        "print('Test 03')\n",
        "s = '[10*[3-(5-2)]'  # unpaired opening bracket\n",
        "returned_value = balance_parenthesis(s)\n",
        "print('Balanced') if returned_value else print('Unbalanced')  # This should print Unbalanced\n",
        "unittest.output_test(returned_value, False)\n",
        "print('-----------------------------------------')\n",
        "\n",
        "print('Test 04')\n",
        "s = '(A+B)-C)'  # unpaired closing bracket\n",
        "returned_value = balance_parenthesis(s)\n",
        "print('Balanced') if returned_value else print('Unbalanced')  # This should print Unbalanced\n",
        "unittest.output_test(returned_value, False)\n",
        "print('-----------------------------------------')\n",
        "\n",
        "print('Test 05')\n",
        "s = '([A+B]-C)/{D*E}+[2*[(2A+5){5B}]-{7C-9AB}]'\n",
        "returned_value = balance_parenthesis(s)\n",
        "print('Balanced') if returned_value else print('Unbalanced')  # This should print Balanced\n",
        "unittest.output_test(returned_value, True)\n",
        "print('-----------------------------------------')\n"
      ],
      "metadata": {
        "id": "fPTZmWXtdPv7",
        "colab": {
          "base_uri": "https://localhost:8080/"
        },
        "outputId": "2316739f-d75a-4a45-ad19-a7d0f0ce82d1"
      },
      "execution_count": 9,
      "outputs": [
        {
          "output_type": "stream",
          "name": "stdout",
          "text": [
            "Test 01\n",
            "Balanced\n",
            "Accepted\n",
            "-----------------------------------------\n",
            "Test 02\n",
            "Unbalanced\n",
            "Accepted\n",
            "-----------------------------------------\n",
            "Test 03\n",
            "Unbalanced\n",
            "Accepted\n",
            "-----------------------------------------\n",
            "Test 04\n",
            "Unbalanced\n",
            "Accepted\n",
            "-----------------------------------------\n",
            "Test 05\n",
            "Balanced\n",
            "Accepted\n",
            "-----------------------------------------\n"
          ]
        }
      ]
    },
    {
      "cell_type": "markdown",
      "source": [
        "Task 2: Diamond Count"
      ],
      "metadata": {
        "id": "i2LySc-6l0Cs"
      }
    },
    {
      "cell_type": "code",
      "source": [
        "class Node:\n",
        "    def __init__(self, elem=None, next=None):\n",
        "        self.elem = elem\n",
        "        self.next = next\n",
        "\n",
        "class Stack:\n",
        "    def __init__(self):\n",
        "        self.__top = None\n",
        "\n",
        "    def push(self, elem):\n",
        "        new_node = Node(elem)\n",
        "        new_node.next = self.__top\n",
        "        self.__top = new_node\n",
        "\n",
        "    def pop(self):\n",
        "        if self.__top is not None:\n",
        "            popped_elem = self.__top.elem\n",
        "            self.__top = self.__top.next\n",
        "            return popped_elem\n",
        "        return None\n",
        "\n",
        "    def peek(self):\n",
        "        if self.__top is not None:\n",
        "            return self.__top.elem\n",
        "        return None\n",
        "\n",
        "    def isEmpty(self):\n",
        "        return self.__top is None\n",
        "\n",
        "def diamond_count(stack, string):\n",
        "    diamond_count = 0\n",
        "\n",
        "    for char in string:\n",
        "        if char == '<':\n",
        "            stack.push(char)\n",
        "        elif char == '>' and not stack.isEmpty() and stack.peek() == '<':\n",
        "            stack.pop()\n",
        "            diamond_count += 1\n",
        "\n",
        "    return diamond_count\n",
        "\n",
        "print('Test 01')\n",
        "stack = Stack()\n",
        "string = '<..><.<..>> '\n",
        "returned_value = diamond_count(stack, string)\n",
        "print(f'Number of Diamonds: {returned_value}')  # This should print 3\n",
        "unittest.output_test(returned_value, 3)\n",
        "print('-----------------------------------------')\n",
        "\n",
        "print('Test 02')\n",
        "stack = Stack()\n",
        "string = '<<<..<......<<<<....>'\n",
        "returned_value = diamond_count(stack, string)\n",
        "print(f'Number of Diamonds: {returned_value}')  # This should print 1\n",
        "unittest.output_test(returned_value, 1)\n",
        "print('-----------------------------------------')\n",
        "\n",
        "print('Test 03')\n",
        "stack = Stack()\n",
        "string = '>>><...<<..>>...>...>>>'\n",
        "returned_value = diamond_count(stack, string)\n",
        "print(f'Number of Diamonds: {returned_value}')  # This should print 3\n",
        "unittest.output_test(returned_value, 3)\n",
        "print('-----------------------------------------')\n"
      ],
      "metadata": {
        "id": "CxGFyO8PeMSz",
        "colab": {
          "base_uri": "https://localhost:8080/"
        },
        "outputId": "748f722e-c791-4ef5-d925-7e4b34cc3b92"
      },
      "execution_count": 11,
      "outputs": [
        {
          "output_type": "stream",
          "name": "stdout",
          "text": [
            "Test 01\n",
            "Number of Diamonds: 3\n",
            "Accepted\n",
            "-----------------------------------------\n",
            "Test 02\n",
            "Number of Diamonds: 1\n",
            "Accepted\n",
            "-----------------------------------------\n",
            "Test 03\n",
            "Number of Diamonds: 3\n",
            "Accepted\n",
            "-----------------------------------------\n"
          ]
        }
      ]
    },
    {
      "cell_type": "markdown",
      "source": [
        "BONUS (Tower of God)"
      ],
      "metadata": {
        "id": "XtxbhOhhlUZb"
      }
    },
    {
      "cell_type": "code",
      "source": [
        "class Node:\n",
        "    def __init__(self, elem=None, next=None):\n",
        "        self.elem = elem\n",
        "        self.next = next\n",
        "\n",
        "class Stack:\n",
        "    def __init__(self):\n",
        "        self.top = None\n",
        "\n",
        "    def push(self, elem):\n",
        "        new_node = Node(elem)\n",
        "        new_node.next = self.top\n",
        "        self.top = new_node\n",
        "\n",
        "    def pop(self):\n",
        "        if self.top is not None:\n",
        "            popped_elem = self.top.elem\n",
        "            self.top = self.top.next\n",
        "            return popped_elem\n",
        "        return None\n",
        "\n",
        "    def peek(self):\n",
        "        if self.top is not None:\n",
        "            return self.top.elem\n",
        "        return None\n",
        "\n",
        "    def isEmpty(self):\n",
        "        return self.top is None\n",
        "\n",
        "def remove_block(st, n):\n",
        "    temp_stack = Stack()\n",
        "\n",
        "    for _ in range(n - 1):\n",
        "        temp_stack.push(st.pop())\n",
        "\n",
        "    st.pop()\n",
        "\n",
        "    while not temp_stack.isEmpty():\n",
        "        st.push(temp_stack.pop())\n",
        "\n",
        "def print_stack(stack):\n",
        "    current = stack.top\n",
        "    while current:\n",
        "        print(current.elem, end=' ')\n",
        "        current = current.next\n",
        "    print()\n",
        "\n",
        "print('Test 01')\n",
        "st = Stack()\n",
        "st.push(4)\n",
        "st.push(19)\n",
        "st.push(23)\n",
        "st.push(17)\n",
        "st.push(5)\n",
        "print('Stack:')\n",
        "print_stack(st)\n",
        "print('------')\n",
        "remove_block(st, 2)\n",
        "print('After Removal')\n",
        "print_stack(st)\n",
        "print('------')\n",
        "\n",
        "print()\n",
        "print('======================================')\n",
        "print()\n",
        "\n",
        "print('Test 02')\n",
        "st = Stack()\n",
        "st.push(73)\n",
        "st.push(85)\n",
        "st.push(15)\n",
        "st.push(41)\n",
        "print('Stack:')\n",
        "print_stack(st)\n",
        "print('------')\n",
        "remove_block(st, 3)\n",
        "print('After Removal')\n",
        "print_stack(st)\n",
        "print('------')\n",
        "\n",
        "print()\n",
        "print('======================================')\n",
        "print()\n"
      ],
      "metadata": {
        "id": "K0n5UeZFj_eq",
        "colab": {
          "base_uri": "https://localhost:8080/"
        },
        "outputId": "a9504e75-49b5-4451-f45d-69bd13bdfb6a"
      },
      "execution_count": 14,
      "outputs": [
        {
          "output_type": "stream",
          "name": "stdout",
          "text": [
            "Test 01\n",
            "Stack:\n",
            "5 17 23 19 4 \n",
            "------\n",
            "After Removal\n",
            "5 23 19 4 \n",
            "------\n",
            "\n",
            "======================================\n",
            "\n",
            "Test 02\n",
            "Stack:\n",
            "41 15 85 73 \n",
            "------\n",
            "After Removal\n",
            "41 15 73 \n",
            "------\n",
            "\n",
            "======================================\n",
            "\n"
          ]
        }
      ]
    },
    {
      "cell_type": "code",
      "source": [],
      "metadata": {
        "id": "eeFZvAI5mRmn"
      },
      "execution_count": null,
      "outputs": []
    }
  ]
}