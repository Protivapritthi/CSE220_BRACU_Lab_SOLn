{
  "nbformat": 4,
  "nbformat_minor": 0,
  "metadata": {
    "colab": {
      "provenance": []
    },
    "kernelspec": {
      "name": "python3",
      "display_name": "Python 3"
    },
    "language_info": {
      "name": "python"
    }
  },
  "cells": [
    {
      "cell_type": "code",
      "execution_count": 1,
      "metadata": {
        "colab": {
          "base_uri": "https://localhost:8080/"
        },
        "id": "YOBQFLNmJ3yo",
        "outputId": "91887c4d-6961-499e-cdb8-94e0205655e2"
      },
      "outputs": [
        {
          "output_type": "stream",
          "name": "stdout",
          "text": [
            "Looking in indexes: https://pypi.org/simple, https://us-python.pkg.dev/colab-wheels/public/simple/\n",
            "Collecting fhm-unittest\n",
            "  Downloading fhm_unittest-1.0.1-py3-none-any.whl (2.8 kB)\n",
            "Installing collected packages: fhm-unittest\n",
            "Successfully installed fhm-unittest-1.0.1\n",
            "Looking in indexes: https://pypi.org/simple, https://us-python.pkg.dev/colab-wheels/public/simple/\n",
            "Collecting fuzzywuzzy\n",
            "  Downloading fuzzywuzzy-0.18.0-py2.py3-none-any.whl (18 kB)\n",
            "Installing collected packages: fuzzywuzzy\n",
            "Successfully installed fuzzywuzzy-0.18.0\n"
          ]
        },
        {
          "output_type": "stream",
          "name": "stderr",
          "text": [
            "/usr/local/lib/python3.10/dist-packages/fuzzywuzzy/fuzz.py:11: UserWarning: Using slow pure-python SequenceMatcher. Install python-Levenshtein to remove this warning\n",
            "  warnings.warn('Using slow pure-python SequenceMatcher. Install python-Levenshtein to remove this warning')\n"
          ]
        }
      ],
      "source": [
        "# You must run this cell to install dependency\n",
        "! pip3 install fhm-unittest\n",
        "! pip3 install fuzzywuzzy\n",
        "import fhm_unittest as unittest\n",
        "import numpy as np"
      ]
    },
    {
      "cell_type": "code",
      "source": [
        "#You must run this cell to print matrix and for the driver code to work\n",
        "def print_matrix(m):\n",
        "  row,col = m.shape\n",
        "  for i in range(row):\n",
        "    c = 1\n",
        "    print('|', end='')\n",
        "    for j in range(col):\n",
        "      c += 1\n",
        "      if(len(str(m[i][j])) == 1):\n",
        "        print(' ',m[i][j], end = '  |')\n",
        "        c += 6\n",
        "      else:\n",
        "        print(' ',m[i][j], end = ' |')\n",
        "        c += 6\n",
        "    print()\n",
        "    print('-'*(c-col))"
      ],
      "metadata": {
        "id": "q0uBGoA1KNVh"
      },
      "execution_count": 3,
      "outputs": []
    },
    {
      "cell_type": "code",
      "source": [
        "def walk_zigzag(floor):\n",
        "    # Determine the dimensions of the room\n",
        "    m, n = floor.shape\n",
        "\n",
        "\n",
        "    row = 0\n",
        "    col = 0\n",
        "\n",
        "    direction = 1\n",
        "\n",
        "\n",
        "    walking_sequence = []\n",
        "    while row < m:\n",
        "\n",
        "        if floor[row][col][-1] == 'W':\n",
        "            walking_sequence.append(floor[row][col][:-1] + 'W')\n",
        "\n",
        "        if direction == 1:\n",
        "            if col == n - 1:\n",
        "                row += 1\n",
        "                direction = -1\n",
        "            else:\n",
        "                col += 1\n",
        "        else:\n",
        "            if col == 0:\n",
        "                row += 1\n",
        "                direction = 1\n",
        "            else:\n",
        "                col -= 1\n",
        "\n",
        "    for row_sequence in walking_sequence:\n",
        "        print(row_sequence, end=' ')\n",
        "    print()\n",
        "\n",
        "# Test case\n",
        "floor = np.array([\n",
        "    ['3W', '8B', '4W', '6B', '1W', '5B'],\n",
        "    ['3B', '2W', '1B', '6W', '3B', '8W'],\n",
        "    ['9W', '0B', '7W', '5B', '3W', '8B'],\n",
        "    ['2B', '1W', '3B', '6W', '0B', '4W'],\n",
        "    ['1W', '4B', '2W', '8B', '6W', '6B']\n",
        "])\n",
        "\n",
        "def print_matrix(floor):\n",
        "    for row in floor:\n",
        "        for col in row:\n",
        "            print(col, end=' ')\n",
        "        print()\n",
        "\n",
        "print_matrix(floor)\n",
        "print('Walking Sequence:')\n",
        "walk_zigzag(floor)"
      ],
      "metadata": {
        "colab": {
          "base_uri": "https://localhost:8080/"
        },
        "id": "BHu3H8vmKXEM",
        "outputId": "da6b9332-d5f2-4731-abc4-b2e95e734048"
      },
      "execution_count": 4,
      "outputs": [
        {
          "output_type": "stream",
          "name": "stdout",
          "text": [
            "3W 8B 4W 6B 1W 5B \n",
            "3B 2W 1B 6W 3B 8W \n",
            "9W 0B 7W 5B 3W 8B \n",
            "2B 1W 3B 6W 0B 4W \n",
            "1W 4B 2W 8B 6W 6B \n",
            "Walking Sequence:\n",
            "3W 4W 1W 8W 6W 2W 9W 7W 3W 4W 6W 1W 1W 2W 6W \n"
          ]
        }
      ]
    },
    {
      "cell_type": "code",
      "source": [
        "def landscape(m):\n",
        "    rows, cols = m.shape\n",
        "    rotated_matrix = np.zeros((cols, rows), dtype=int)\n",
        "\n",
        "    for i in range(rows):\n",
        "        for j in range(cols):\n",
        "            rotated_matrix[j][i] = m[i][j]\n",
        "\n",
        "    return rotated_matrix\n",
        "\n",
        "def print_matrix(m):\n",
        "    rows, cols = m.shape\n",
        "    for i in range(rows):\n",
        "        print(\"-----------------\")\n",
        "        for j in range(cols):\n",
        "            print(\"|\", m[i][j], end=\" \")\n",
        "        print(\"|\")\n",
        "    print(\"-----------------\")\n",
        "\n",
        "m = np.array([[7, 11, 8], [6, 9, 14], [0, 4, 7], [2, 0, 8]])\n",
        "\n",
        "print(\"Original Matrix:\")\n",
        "print_matrix(m)\n",
        "print()\n",
        "print(\"Rotated Matrix:\")\n",
        "print_matrix(landscape(m))"
      ],
      "metadata": {
        "colab": {
          "base_uri": "https://localhost:8080/"
        },
        "id": "CAv4kFTELfW0",
        "outputId": "9ed7c8e6-9fbb-4a7a-c7e5-53a01d024a20"
      },
      "execution_count": 5,
      "outputs": [
        {
          "output_type": "stream",
          "name": "stdout",
          "text": [
            "Original Matrix:\n",
            "-----------------\n",
            "| 7 | 11 | 8 |\n",
            "-----------------\n",
            "| 6 | 9 | 14 |\n",
            "-----------------\n",
            "| 0 | 4 | 7 |\n",
            "-----------------\n",
            "| 2 | 0 | 8 |\n",
            "-----------------\n",
            "\n",
            "Rotated Matrix:\n",
            "-----------------\n",
            "| 7 | 6 | 0 | 2 |\n",
            "-----------------\n",
            "| 11 | 9 | 4 | 0 |\n",
            "-----------------\n",
            "| 8 | 14 | 7 | 8 |\n",
            "-----------------\n"
          ]
        }
      ]
    },
    {
      "cell_type": "code",
      "source": [
        "def arrangement(m, diff):\n",
        "    rows, cols = m.shape\n",
        "\n",
        "    for i in range(rows):\n",
        "        for j in range(cols):\n",
        "            if m[i][j] - m[j][i] != diff:\n",
        "                return False\n",
        "\n",
        "    return True\n",
        "\n",
        "def print_matrix(m):\n",
        "    rows, cols = m.shape\n",
        "    for i in range(rows):\n",
        "        print(\"-----------------------\")\n",
        "        for j in range(cols):\n",
        "            print(\"|\", m[i][j], end=\" \")\n",
        "        print(\"|\")\n",
        "    print(\"-----------------------\")\n",
        "\n",
        "m = np.array([[8, 15, 7, 12], [13, 2, 18, 11], [9, 20, 5, 2], [14, 9, 0, 10]])\n",
        "print(\"Matrix:\")\n",
        "print_matrix(m)\n",
        "print()\n",
        "returned_value = arrangement(m, 2)\n",
        "print(\"Output:\", returned_value)\n",
        "\n",
        "m = np.array([[7, 13, 9, 14], [12, 8, 15, 11], [10, 17, 3, 2], [15, 10, 1, 4]])\n",
        "print(\"Matrix:\")\n",
        "print_matrix(m)\n",
        "print()\n",
        "returned_value = arrangement(m, 1)\n",
        "print(\"Output:\", returned_value)"
      ],
      "metadata": {
        "colab": {
          "base_uri": "https://localhost:8080/"
        },
        "id": "7v7JdhWCQ4L5",
        "outputId": "ed94dab2-dee0-44de-e7cd-f88587dfd8f6"
      },
      "execution_count": 6,
      "outputs": [
        {
          "output_type": "stream",
          "name": "stdout",
          "text": [
            "Matrix:\n",
            "-----------------------\n",
            "| 8 | 15 | 7 | 12 |\n",
            "-----------------------\n",
            "| 13 | 2 | 18 | 11 |\n",
            "-----------------------\n",
            "| 9 | 20 | 5 | 2 |\n",
            "-----------------------\n",
            "| 14 | 9 | 0 | 10 |\n",
            "-----------------------\n",
            "\n",
            "Output: False\n",
            "Matrix:\n",
            "-----------------------\n",
            "| 7 | 13 | 9 | 14 |\n",
            "-----------------------\n",
            "| 12 | 8 | 15 | 11 |\n",
            "-----------------------\n",
            "| 10 | 17 | 3 | 2 |\n",
            "-----------------------\n",
            "| 15 | 10 | 1 | 4 |\n",
            "-----------------------\n",
            "\n",
            "Output: False\n"
          ]
        }
      ]
    },
    {
      "cell_type": "code",
      "source": [
        "import numpy as np\n",
        "\n",
        "def show_knight_move(knight):\n",
        "    chess_board = np.zeros((8, 8), dtype=int)\n",
        "    row, col = knight\n",
        "\n",
        "    moves = [\n",
        "        (-2, -1), (-2, 1),\n",
        "        (-1, -2), (-1, 2),\n",
        "        (1, -2), (1, 2),\n",
        "        (2, -1), (2, 1)\n",
        "    ]\n",
        "\n",
        "    for move in moves:\n",
        "        move_row, move_col = move\n",
        "        new_row = row + move_row\n",
        "        new_col = col + move_col\n",
        "\n",
        "        if 0 <= new_row < 8 and 0 <= new_col < 8:\n",
        "            chess_board[new_row][new_col] = 3\n",
        "\n",
        "    chess_board[row][col] = 33\n",
        "\n",
        "    return chess_board\n",
        "\n",
        "def print_matrix(matrix):\n",
        "    for row in matrix:\n",
        "        print(\"|\", end=\" \")\n",
        "        for value in row:\n",
        "            print(value, end=\" \")\n",
        "        print(\"|\")\n",
        "        print(\"------------------------------------------\")\n",
        "\n",
        "knight = (3, 4)\n",
        "chess_board = show_knight_move(knight)\n",
        "print_matrix(chess_board)"
      ],
      "metadata": {
        "colab": {
          "base_uri": "https://localhost:8080/"
        },
        "id": "-m5kQ_ZPberC",
        "outputId": "506454e9-dba2-4dc4-d284-1f9376736b11"
      },
      "execution_count": 7,
      "outputs": [
        {
          "output_type": "stream",
          "name": "stdout",
          "text": [
            "| 0 0 0 0 0 0 0 0 |\n",
            "------------------------------------------\n",
            "| 0 0 0 3 0 3 0 0 |\n",
            "------------------------------------------\n",
            "| 0 0 3 0 0 0 3 0 |\n",
            "------------------------------------------\n",
            "| 0 0 0 0 33 0 0 0 |\n",
            "------------------------------------------\n",
            "| 0 0 3 0 0 0 3 0 |\n",
            "------------------------------------------\n",
            "| 0 0 0 3 0 3 0 0 |\n",
            "------------------------------------------\n",
            "| 0 0 0 0 0 0 0 0 |\n",
            "------------------------------------------\n",
            "| 0 0 0 0 0 0 0 0 |\n",
            "------------------------------------------\n"
          ]
        }
      ]
    }
  ]
}