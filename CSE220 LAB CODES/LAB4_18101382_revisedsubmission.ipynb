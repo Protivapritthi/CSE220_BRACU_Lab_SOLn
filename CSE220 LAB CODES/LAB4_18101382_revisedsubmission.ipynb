{
  "nbformat": 4,
  "nbformat_minor": 0,
  "metadata": {
    "colab": {
      "provenance": []
    },
    "kernelspec": {
      "name": "python3",
      "display_name": "Python 3"
    },
    "language_info": {
      "name": "python"
    }
  },
  "cells": [
    {
      "cell_type": "code",
      "execution_count": 5,
      "metadata": {
        "id": "-IdYOXlWrRgE"
      },
      "outputs": [],
      "source": [
        "class Patient:\n",
        "    def __init__(self, id, name, age, blood_group):\n",
        "        self.id = id\n",
        "        self.name = name\n",
        "        self.age = age\n",
        "        self.blood_group = blood_group\n",
        "\n",
        "\n",
        "class DoublyNode:\n",
        "    def __init__(self, elem, next=None, prev=None):\n",
        "        self.elem = elem\n",
        "        self.next = next\n",
        "        self.prev = prev\n",
        "\n",
        "\n",
        "class WRM:\n",
        "    def __init__(self):\n",
        "        self.head = DoublyNode(None)  # Dummy Head\n",
        "        self.tail = self.head\n",
        "        self.size = 0\n",
        "\n",
        "    def RegisterPatient(self, id, name, age, blood_group):\n",
        "        patient = Patient(id, name, age, blood_group)\n",
        "        new_node = DoublyNode(patient)\n",
        "\n",
        "        new_node.next = self.head\n",
        "        new_node.prev = self.tail\n",
        "\n",
        "        self.tail.next = new_node\n",
        "        self.tail = new_node\n",
        "        self.size += 1\n",
        "        print(\"Success\")\n",
        "\n",
        "    def ServePatient(self):\n",
        "        if self.size == 0:\n",
        "            print(\"No patients in the waiting room.\")\n",
        "        else:\n",
        "            patient = self.head.next.elem\n",
        "            self.head.next = self.head.next.next\n",
        "            self.head.next.prev = self.head\n",
        "            self.size -= 1\n",
        "            print( patient.name)\n",
        "\n",
        "    def CancelAll(self):\n",
        "        self.head.next = None\n",
        "        self.tail = self.head\n",
        "        self.size = 0\n",
        "        print(\"Success\")\n",
        "\n",
        "    def CanDoctorGoHome(self):\n",
        "        if self.size == 0:\n",
        "            print(\"Yes\")\n",
        "        else:\n",
        "            print(\"No\")\n",
        "\n",
        "    def ShowAllPatients(self):\n",
        "        if self.size == 0:\n",
        "            print(\"No patients in the waiting room.\")\n",
        "        else:\n",
        "            current = self.head.next\n",
        "            while current != self.head:\n",
        "                print(\"Patient ID:\", current.elem.id)\n",
        "                current = current.next"
      ]
    },
    {
      "cell_type": "code",
      "source": [
        "wrm = WRM()\n",
        "\n",
        "wrm.RegisterPatient(1, \"J Rahman\", 30, \"A+\")\n",
        "wrm.RegisterPatient(2, \"J Hasan\", 45, \"B-\")\n",
        "wrm.RegisterPatient(3, \"M Karim\", 55, \"O+\")"
      ],
      "metadata": {
        "colab": {
          "base_uri": "https://localhost:8080/"
        },
        "id": "1mMi8o90sJ2Q",
        "outputId": "0b62ccec-5bf9-4e4e-9201-845013a6e358"
      },
      "execution_count": 6,
      "outputs": [
        {
          "output_type": "stream",
          "name": "stdout",
          "text": [
            "Success\n",
            "Success\n",
            "Success\n"
          ]
        }
      ]
    },
    {
      "cell_type": "code",
      "source": [
        "wrm.ShowAllPatients()\n",
        "wrm.CanDoctorGoHome()"
      ],
      "metadata": {
        "colab": {
          "base_uri": "https://localhost:8080/"
        },
        "id": "Oj1CCQO2sjsA",
        "outputId": "17858b83-0314-4bbb-c2fe-534e3a550d5a"
      },
      "execution_count": 8,
      "outputs": [
        {
          "output_type": "stream",
          "name": "stdout",
          "text": [
            "Patient ID: 1\n",
            "Patient ID: 2\n",
            "Patient ID: 3\n",
            "No\n"
          ]
        }
      ]
    },
    {
      "cell_type": "code",
      "source": [
        "wrm.CancelAll()\n",
        "wrm.CanDoctorGoHome()"
      ],
      "metadata": {
        "colab": {
          "base_uri": "https://localhost:8080/"
        },
        "id": "cPcgAutEwUuc",
        "outputId": "425ff3fd-38e0-4820-fd7d-27494d34f713"
      },
      "execution_count": 10,
      "outputs": [
        {
          "output_type": "stream",
          "name": "stdout",
          "text": [
            "Success\n",
            "Yes\n"
          ]
        }
      ]
    }
  ]
}